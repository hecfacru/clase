{
  "nbformat": 4,
  "nbformat_minor": 0,
  "metadata": {
    "colab": {
      "name": "ClaseTaller-FundamentosProgramacionPython",
      "provenance": [],
      "collapsed_sections": [],
      "toc_visible": true
    },
    "kernelspec": {
      "name": "python3",
      "display_name": "Python 3"
    }
  },
  "cells": [
    {
      "cell_type": "markdown",
      "metadata": {
        "id": "xgf3A09nk4FR",
        "colab_type": "text"
      },
      "source": [
        "# Aclaraciones Antes de Empezar"
      ]
    },
    {
      "cell_type": "markdown",
      "metadata": {
        "id": "W0A8v_AyOUag",
        "colab_type": "text"
      },
      "source": [
        "* En las encuestas se pudo ver que algunas personas del grupo no tienen conocimientos de programación, por esta razón se empieza desde lo más básico.\n",
        "\n",
        "* El lenguaje de programación Python es muy grande y necesita muchas semanas (meses, años) de estudio y práctica. El objetivo con esta clase taller es tener una introducción al lenguaje de programación Python de acuerdo a lo que más se usa en ciencia de datos y como preparación inicial para las próximas clases.\n",
        "\n",
        "\n",
        "Empecemos ....\n",
        "\n",
        "\n"
      ]
    },
    {
      "cell_type": "markdown",
      "metadata": {
        "id": "mRZxJG33kQyK",
        "colab_type": "text"
      },
      "source": [
        "# VARIABLES"
      ]
    },
    {
      "cell_type": "markdown",
      "metadata": {
        "id": "k9bdTl3bKdrw",
        "colab_type": "text"
      },
      "source": [
        "Las variables son los nombres que se le dan a cajas que contienen información. La información que contiene la caja puede cambiar.\n",
        "(Tecnicamente son un nombre a un espacio en la memoria del computador). Su ámbito puede ser local o global.\n",
        "Consideraciones:\n",
        "- Nunca use símbolos especiales como !, @, #, $, %, etc.\n",
        "- El primer carácter no puede ser un número o dígito."
      ]
    },
    {
      "cell_type": "code",
      "metadata": {
        "id": "Lr1LSJHKIckR",
        "colab_type": "code",
        "colab": {}
      },
      "source": [
        "nombre_usuario = 'Yeis'\n",
        "\n",
        "apellido_usuario = 'Livis'\n",
        "\n",
        "edad_yeis = 27\n",
        "\n",
        "salario = 20765789.25 # Separador de decimales es .\n",
        "\n",
        "nombre_completo_jose = 'Jose Mauricio Candela'\n",
        "\n",
        "nombres_integrantes_presentacion = ['Jose','Hector','Yeis']\n",
        "\n",
        "informacion_usuario = {'nombre':'Alfonso', 'apellido':'Carvajal', 'edad':29}"
      ],
      "execution_count": null,
      "outputs": []
    },
    {
      "cell_type": "code",
      "metadata": {
        "id": "e8riVJfqYsEx",
        "colab_type": "code",
        "colab": {}
      },
      "source": [
        "print(nombre_usuario)\n",
        "print(apellido_usuario)\n",
        "print(edad_yeis)\n",
        "print(salario)\n",
        "print(nombre_completo_jose)\n",
        "print(nombres_integrantes_presentacion)\n",
        "print(informacion_usuario)\n"
      ],
      "execution_count": null,
      "outputs": []
    },
    {
      "cell_type": "markdown",
      "metadata": {
        "id": "qP1tchk5lJis",
        "colab_type": "text"
      },
      "source": [
        "# CONSTANTES"
      ]
    },
    {
      "cell_type": "markdown",
      "metadata": {
        "id": "CnJ9ePEQK87o",
        "colab_type": "text"
      },
      "source": [
        "Las constantes son los nombres de cajas que tienen una información y que su valor no se debe modificar. En otros lenguajes se usa alguna palabra clave para definirlas como CONST o FINAL, sin embargo, en Python no existe una palabra clave. El standar es escribir el nombre en mayúscula sostenida y se reemplaza el espacio por guión bajo\n"
      ]
    },
    {
      "cell_type": "code",
      "metadata": {
        "id": "bFe9XKCoL9Nb",
        "colab_type": "code",
        "colab": {}
      },
      "source": [
        "CANTIDAD_REGISTROS_CALCULO_PROMEDIO = 6\n",
        "\n",
        "AMBIENTE_PRODUCCION = 'SFPA0708'\n",
        "\n",
        "SERVIDOR_BASE_DATOS = 'EPM-PO20'"
      ],
      "execution_count": null,
      "outputs": []
    },
    {
      "cell_type": "markdown",
      "metadata": {
        "id": "64tNNFenlTZy",
        "colab_type": "text"
      },
      "source": [
        "# TIPOS DE DATOS BASICOS DE LAS VARIABLES"
      ]
    },
    {
      "cell_type": "markdown",
      "metadata": {
        "id": "SBed9SEOL9iO",
        "colab_type": "text"
      },
      "source": [
        "Todas las variables tienen una propiedad (Tipo de Dato) que determina cuáles son los valores que puede tomar y las operaciones que se pueden realizar con esa variable.\n",
        "\n",
        "Si se quiere saber el tipo de una variable, se usa la función type(*nombre_variable*)\n",
        "\n"
      ]
    },
    {
      "cell_type": "code",
      "metadata": {
        "id": "SyNQ0FA_RsqI",
        "colab_type": "code",
        "colab": {}
      },
      "source": [
        "# Numerico - Enteros\n",
        "\n",
        "anho_nacimiento = 1978\n",
        "periodo_facturacion= 976534\n",
        "\n",
        "print('Valores Variables Enteras')\n",
        "print(anho_nacimiento)\n",
        "print(periodo_facturacion)\n",
        "\n",
        "print('Tipos Variables Enteras')\n",
        "print(type(anho_nacimiento))\n",
        "print(type(periodo_facturacion))"
      ],
      "execution_count": null,
      "outputs": []
    },
    {
      "cell_type": "code",
      "metadata": {
        "id": "sMa-3WJFoRFp",
        "colab_type": "code",
        "colab": {}
      },
      "source": [
        "# Numerico - Con Decimales\n",
        "\n",
        "promedio_consumo = 45.6\n",
        "porcentaje_aceptable = 85.4\n",
        "\n",
        "print('Valores Variables')\n",
        "print(promedio_consumo)\n",
        "print(porcentaje_aceptable)\n",
        "\n",
        "print('Tipos Variables')\n",
        "print(type(promedio_consumo))\n",
        "print(type(porcentaje_aceptable))"
      ],
      "execution_count": null,
      "outputs": []
    },
    {
      "cell_type": "code",
      "metadata": {
        "id": "XgeJZ99wpCBp",
        "colab_type": "code",
        "colab": {}
      },
      "source": [
        "# Cadenas de Texto\n",
        "\n",
        "nombre_usuario = 'Gabriel Cárdenas'\n",
        "\n",
        "login = \"GCARDENAS\"\n",
        "\n",
        "descripcion = \"\"\"ESTA ES UNA DESCRIPCION CON\n",
        "  ALGUNOS SALTOS\n",
        "\n",
        "  DE LINEA\"\"\"\n",
        "\n",
        "#Notese el uso de las comillas simples en el nombre\n",
        "mensaje_promedio_usuario = \"El usuario 'Yeis' tiene un promedio de 97 Kwh\" \n",
        "\n",
        "\n",
        "print(nombre_usuario)\n",
        "print('---')\n",
        "print(login)\n",
        "print('---')\n",
        "print(descripcion)\n",
        "print('---')\n",
        "print(mensaje_promedio_usuario)\n",
        "print('---')\n",
        "print('')\n",
        "print('Tipos Variables')\n",
        "print(type(nombre_usuario))\n",
        "print(type(login))\n",
        "print(type(descripcion))\n",
        "print(type(mensaje_promedio_usuario))"
      ],
      "execution_count": null,
      "outputs": []
    },
    {
      "cell_type": "code",
      "metadata": {
        "id": "meRAmznwrUZV",
        "colab_type": "code",
        "colab": {}
      },
      "source": [
        "# Booleanos -- Solo tienen dos valores posibles True y False\n",
        "\n",
        "usuario_valido = True\n",
        "\n",
        "ingresar = False\n",
        "\n",
        "print('---')\n",
        "print(usuario_valido)\n",
        "print(type(usuario_valido))\n",
        "print('---')\n",
        "print(ingresar)\n",
        "print(type(ingresar))\n"
      ],
      "execution_count": null,
      "outputs": []
    },
    {
      "cell_type": "markdown",
      "metadata": {
        "id": "q7ViYEcvRtJs",
        "colab_type": "text"
      },
      "source": [
        "En Python no se indica explicitamente el tipo a las variables, se toma implicitamente de la información que se le asigna. Por tanto, una variable puede cambiar de tipo de dato todo el tiempo"
      ]
    },
    {
      "cell_type": "code",
      "metadata": {
        "id": "Ueqwv9ndSRLN",
        "colab_type": "code",
        "colab": {}
      },
      "source": [
        "#Notese que siempre se utliza la misma variable\n",
        "\n",
        "promedio_usuario = 36\n",
        "print(promedio_usuario)\n",
        "print(type(promedio_usuario))\n",
        "\n",
        "print('---')\n",
        "promedio_usuario = '36'\n",
        "print(promedio_usuario)\n",
        "print(type(promedio_usuario))\n",
        "\n",
        "print('---')\n",
        "promedio_usuario = True\n",
        "print(promedio_usuario)\n",
        "print(type(promedio_usuario))"
      ],
      "execution_count": null,
      "outputs": []
    },
    {
      "cell_type": "markdown",
      "metadata": {
        "id": "XY9pb2whsFjp",
        "colab_type": "text"
      },
      "source": [
        "# OPERACIONES SOBRE VARIABLES"
      ]
    },
    {
      "cell_type": "markdown",
      "metadata": {
        "id": "Gr6aTOXLURKU",
        "colab_type": "text"
      },
      "source": [
        "ARITMETICAS\n",
        "\n"
      ]
    },
    {
      "cell_type": "code",
      "metadata": {
        "id": "8MmpaCJaVGhu",
        "colab_type": "code",
        "colab": {}
      },
      "source": [
        "# Suma\n",
        "resultado_suma = 5 + 4\n",
        "print(resultado_suma)"
      ],
      "execution_count": null,
      "outputs": []
    },
    {
      "cell_type": "code",
      "metadata": {
        "id": "XipmRpWpVUDL",
        "colab_type": "code",
        "colab": {}
      },
      "source": [
        "# Resta\n",
        "resultado_resta = 5 - 4\n",
        "print(resultado_resta)"
      ],
      "execution_count": null,
      "outputs": []
    },
    {
      "cell_type": "code",
      "metadata": {
        "id": "j_Bt_UVRVgTy",
        "colab_type": "code",
        "colab": {}
      },
      "source": [
        "# Multiplicación\n",
        "resultado_multiplicacion = 5 * 4\n",
        "print(resultado_multiplicacion)"
      ],
      "execution_count": null,
      "outputs": []
    },
    {
      "cell_type": "code",
      "metadata": {
        "id": "gxwK758EVpZH",
        "colab_type": "code",
        "colab": {}
      },
      "source": [
        "# División\n",
        "resultado_division = 5 / 4\n",
        "print(resultado_division)"
      ],
      "execution_count": null,
      "outputs": []
    },
    {
      "cell_type": "code",
      "metadata": {
        "id": "98yq8B5KV1Pz",
        "colab_type": "code",
        "colab": {}
      },
      "source": [
        "# Módulo\n",
        "resultado_modulo = 5 % 3\n",
        "print(resultado_modulo)"
      ],
      "execution_count": null,
      "outputs": []
    },
    {
      "cell_type": "code",
      "metadata": {
        "id": "EoOCmstdWVU2",
        "colab_type": "code",
        "colab": {}
      },
      "source": [
        "# División Entera\n",
        "resultado_division_entera = 5 // 4\n",
        "print(resultado_division_entera)"
      ],
      "execution_count": null,
      "outputs": []
    },
    {
      "cell_type": "code",
      "metadata": {
        "id": "xWTzKkv-WqcL",
        "colab_type": "code",
        "colab": {}
      },
      "source": [
        "# Potencia\n",
        "resultado_potencia = 5 ** 2\n",
        "print(resultado_potencia)"
      ],
      "execution_count": null,
      "outputs": []
    },
    {
      "cell_type": "code",
      "metadata": {
        "id": "qDlk2hrWW4Cc",
        "colab_type": "code",
        "colab": {}
      },
      "source": [
        "# Incrementar\n",
        "variable = 5\n",
        "variable += 2 # Equivalente a tener \"variable= 5+2\"\n",
        "print(variable)"
      ],
      "execution_count": null,
      "outputs": []
    },
    {
      "cell_type": "code",
      "metadata": {
        "id": "KMo_X53gXJgp",
        "colab_type": "code",
        "colab": {}
      },
      "source": [
        "# Decrementar\n",
        "variable = 5\n",
        "variable -= 2 # Equivalente a tener \"variable= 5-2\"\n",
        "print(variable)"
      ],
      "execution_count": null,
      "outputs": []
    },
    {
      "cell_type": "markdown",
      "metadata": {
        "id": "IdrLfEq2sQX9",
        "colab_type": "text"
      },
      "source": [
        "CADENA DE TEXTO"
      ]
    },
    {
      "cell_type": "code",
      "metadata": {
        "id": "Gchv3SMKsTrZ",
        "colab_type": "code",
        "colab": {}
      },
      "source": [
        "# Concatenar Cadenas de Texto\n",
        "\n",
        "saludo = 'Hola'\n",
        "nombre_usuario = 'Carlos'\n",
        "mensaje_saludo = saludo + ' ' + nombre_usuario\n",
        "\n",
        "print(mensaje_saludo)"
      ],
      "execution_count": null,
      "outputs": []
    },
    {
      "cell_type": "code",
      "metadata": {
        "id": "TM3e_FE1sxgY",
        "colab_type": "code",
        "colab": {}
      },
      "source": [
        "# Concatenar Diferentes Tipos\n",
        "# En este caso es necesario usar la función str() para convertir el entero en cadena\n",
        "\n",
        "promedio = 58\n",
        "mensaje = 'El promedio del usuario es ' + str(promedio) + ' Kwh'\n",
        "\n",
        "print(mensaje)"
      ],
      "execution_count": null,
      "outputs": []
    },
    {
      "cell_type": "code",
      "metadata": {
        "id": "ZMfs9UNMtdaj",
        "colab_type": "code",
        "colab": {}
      },
      "source": [
        "# Parte de una cadena\n",
        "\n",
        "mensaje = 'Hola Hector'\n",
        "print(mensaje[5:])\n",
        "print(mensaje[0:5])\n",
        "print(mensaje[0:10:3])"
      ],
      "execution_count": null,
      "outputs": []
    },
    {
      "cell_type": "markdown",
      "metadata": {
        "id": "BWa--TwCu-7i",
        "colab_type": "text"
      },
      "source": [
        "COMPARACION"
      ]
    },
    {
      "cell_type": "code",
      "metadata": {
        "id": "eysts2rOvCRM",
        "colab_type": "code",
        "colab": {}
      },
      "source": [
        "# Menor que\n",
        "PROMEDIO_MAXIMO_ACEPTABLE = 20\n",
        "promedio_usuario = 15\n",
        "\n",
        "# Se usa la comparación dentro de PRINT sólo con fines educativos\n",
        "print(promedio_usuario < PROMEDIO_MAXIMO_ACEPTABLE)"
      ],
      "execution_count": null,
      "outputs": []
    },
    {
      "cell_type": "code",
      "metadata": {
        "id": "MxP6ZnCsvVVJ",
        "colab_type": "code",
        "colab": {}
      },
      "source": [
        "# Menor o igual que\n",
        "promedio_usuario = 17\n",
        "\n",
        "# Se usa la comparación dentro de PRINT sólo con fines educativos\n",
        "print(promedio_usuario < PROMEDIO_MAXIMO_ACEPTABLE)"
      ],
      "execution_count": null,
      "outputs": []
    },
    {
      "cell_type": "code",
      "metadata": {
        "id": "n6TwPmBMvZm6",
        "colab_type": "code",
        "colab": {}
      },
      "source": [
        "# Mayor que\n",
        "promedio_usuario = 39\n",
        "\n",
        "# Se usa la comparación dentro de PRINT sólo con fines educativos\n",
        "print(promedio_usuario > PROMEDIO_MAXIMO_ACEPTABLE)"
      ],
      "execution_count": null,
      "outputs": []
    },
    {
      "cell_type": "code",
      "metadata": {
        "id": "kpLxXBLavfpJ",
        "colab_type": "code",
        "colab": {}
      },
      "source": [
        "# Mayor o igual que\n",
        "\n",
        "# Se usa la comparación dentro de PRINT sólo con fines educativos\n",
        "print(promedio_usuario >= PROMEDIO_MAXIMO_ACEPTABLE)"
      ],
      "execution_count": null,
      "outputs": []
    },
    {
      "cell_type": "code",
      "metadata": {
        "id": "CxAsu9jKvkv6",
        "colab_type": "code",
        "colab": {}
      },
      "source": [
        "# Igualdad\n",
        "\n",
        "promedio_usuario = 20\n",
        "# Se usa la comparación dentro de PRINT sólo con fines educativos\n",
        "print(promedio_usuario == PROMEDIO_MAXIMO_ACEPTABLE)\n",
        "\n",
        "promedio_usuario = 20.5\n",
        "# Se usa la comparación dentro de PRINT sólo con fines educativos\n",
        "print(promedio_usuario == PROMEDIO_MAXIMO_ACEPTABLE)"
      ],
      "execution_count": null,
      "outputs": []
    },
    {
      "cell_type": "markdown",
      "metadata": {
        "id": "Sfq37PNRoxpc",
        "colab_type": "text"
      },
      "source": [
        "# OPERADORES LOGICOS AND, OR, NOT"
      ]
    },
    {
      "cell_type": "markdown",
      "metadata": {
        "id": "Oduy-3gxrc5s",
        "colab_type": "text"
      },
      "source": [
        "Los operadores lógicos se usan para realizar operaciones sobre valores booleanos"
      ]
    },
    {
      "cell_type": "markdown",
      "metadata": {
        "id": "d1GyI5pvrl0_",
        "colab_type": "text"
      },
      "source": [
        "AND: Se utiliza para conectar dos condiciones que se deben cumplir para obtener un valor verdadero. Si una no es verdadera, toda la condicion no es verdadera"
      ]
    },
    {
      "cell_type": "code",
      "metadata": {
        "id": "7cfdZvHrpKgf",
        "colab_type": "code",
        "colab": {
          "base_uri": "https://localhost:8080/",
          "height": 68
        },
        "outputId": "6fcdcede-b9d6-4020-ac69-be969b1864fe"
      },
      "source": [
        "# Uso de AND\n",
        "instalacion_medellin = True \n",
        "instalacion_estrato_1 = True\n",
        "\n",
        "print(instalacion_medellin and instalacion_estrato_1)\n",
        "\n",
        "print('---------')\n",
        "\n",
        "instalacion_medellin = True \n",
        "instalacion_estrato_1 = False\n",
        "\n",
        "print(instalacion_medellin and instalacion_estrato_1)"
      ],
      "execution_count": 5,
      "outputs": [
        {
          "output_type": "stream",
          "text": [
            "True\n",
            "---------\n",
            "False\n"
          ],
          "name": "stdout"
        }
      ]
    },
    {
      "cell_type": "code",
      "metadata": {
        "id": "JQe4IQG8o-Md",
        "colab_type": "code",
        "colab": {
          "base_uri": "https://localhost:8080/",
          "height": 51
        },
        "outputId": "32616a1b-bef8-46d3-f2c0-e75df5e51fb7"
      },
      "source": [
        "# Uso de AND con comparaciones\n",
        "consumo = 17\n",
        "print(consumo > 10 and consumo < 20)\n",
        "\n",
        "consumo = 20\n",
        "print(consumo > 10 and consumo < 20)"
      ],
      "execution_count": 3,
      "outputs": [
        {
          "output_type": "stream",
          "text": [
            "True\n",
            "False\n"
          ],
          "name": "stdout"
        }
      ]
    },
    {
      "cell_type": "markdown",
      "metadata": {
        "id": "KD_u255JrzvP",
        "colab_type": "text"
      },
      "source": [
        "OR: Se utiliza para conectar dos condiciones para obtener un resultado verdadero cuando alguna es verdadera"
      ]
    },
    {
      "cell_type": "code",
      "metadata": {
        "id": "BUlYtNt0p6Ah",
        "colab_type": "code",
        "colab": {
          "base_uri": "https://localhost:8080/",
          "height": 68
        },
        "outputId": "72c83bcd-3b51-4eb7-c9a3-55f3182ab5d3"
      },
      "source": [
        "# Uso de OR\n",
        "estrato_instalacion = 1\n",
        "print(estrato_instalacion == 1 or estrato_instalacion == 2)\n",
        "\n",
        "print('---------')\n",
        "\n",
        "estrato_instalacion = 3\n",
        "print(estrato_instalacion == 1 or estrato_instalacion == 2)"
      ],
      "execution_count": 6,
      "outputs": [
        {
          "output_type": "stream",
          "text": [
            "True\n",
            "---------\n",
            "False\n"
          ],
          "name": "stdout"
        }
      ]
    },
    {
      "cell_type": "markdown",
      "metadata": {
        "id": "t4ywWzsrsDQV",
        "colab_type": "text"
      },
      "source": [
        "NOT: Cambia el valor de verdadero a falso y viceversa"
      ]
    },
    {
      "cell_type": "code",
      "metadata": {
        "id": "6f1EHiptpC0T",
        "colab_type": "code",
        "colab": {
          "base_uri": "https://localhost:8080/",
          "height": 68
        },
        "outputId": "2b162a28-cc92-4621-b1f1-51731004523d"
      },
      "source": [
        "# Uso de NOT\n",
        "\n",
        "instalacion_residencial = True\n",
        "print(not instalacion_residencial)\n",
        "\n",
        "print('---------')\n",
        "\n",
        "instalacion_residencial = False\n",
        "print(not instalacion_residencial)"
      ],
      "execution_count": 10,
      "outputs": [
        {
          "output_type": "stream",
          "text": [
            "False\n",
            "---------\n",
            "True\n"
          ],
          "name": "stdout"
        }
      ]
    },
    {
      "cell_type": "markdown",
      "metadata": {
        "id": "D7BYzF1BmYKT",
        "colab_type": "text"
      },
      "source": [
        "# ESTRUCTURAS DE DATOS BASICAS"
      ]
    },
    {
      "cell_type": "markdown",
      "metadata": {
        "id": "me9G_AaBmcQY",
        "colab_type": "text"
      },
      "source": [
        "Son elementos que nos permiten contener información a procesar\n",
        "\n",
        "Las estructuras de datos más utilizadas son: \n",
        "\n",
        "* Listas: \n",
        "son estructuras de datos a las cuales es posible cambiarle su tamaño y la información que contiene. La definición de una lista se hace con corchetes\n"
      ]
    },
    {
      "cell_type": "code",
      "metadata": {
        "id": "4vriFwVl-zJ9",
        "colab_type": "code",
        "colab": {}
      },
      "source": [
        "# Definición de una lista\n",
        "consumo_ultimos_meses = [15, 20, 18, 19, 35, 30]\n",
        "meses = ['Enero', 'Febrero', 'Marzo', 'Abril', 'Mayo', 'Junio']\n",
        "\n",
        "# Visualizar información que contiene una lista\n",
        "print(consumo_ultimos_meses)\n",
        "print(meses)\n"
      ],
      "execution_count": null,
      "outputs": []
    },
    {
      "cell_type": "code",
      "metadata": {
        "id": "PTVRp6abDhMI",
        "colab_type": "code",
        "colab": {}
      },
      "source": [
        "# Acceso a una posición de la lista, se hace con nombre_lista[posición]\n",
        "consumo_primer_mes = consumo_ultimos_meses[0] # Se obtiene el valor de la primera posición\n",
        "print(consumo_primer_mes)                     # Se muestra el valor de la variable consumo_primer_mes\n",
        "\n",
        "consumo_sexto_mes = consumo_ultimos_meses[5]  # Se obtiene el valor de la sexta posición\n",
        "print(consumo_sexto_mes)                      # Se muestra el valor de la variable consumo_sexto_mes\n"
      ],
      "execution_count": null,
      "outputs": []
    },
    {
      "cell_type": "code",
      "metadata": {
        "id": "psHOZp-gD1ZK",
        "colab_type": "code",
        "colab": {}
      },
      "source": [
        "# Modificación de una posición de la lista, se hace con nombre_lista[posición] = nuevo_valor\n",
        "print(consumo_ultimos_meses[0]) # Se obtiene el valor de la primera posición\n",
        "\n",
        "consumo_ultimos_meses[0] = 17   # Se modifica el valor de la primera posición\n",
        "\n",
        "print('Después de la modificación')\n",
        "print(consumo_ultimos_meses[0]) # Se obtiene el valor de la primera posición nuevamente\n"
      ],
      "execution_count": null,
      "outputs": []
    },
    {
      "cell_type": "code",
      "metadata": {
        "id": "8A1nj0UEVeKF",
        "colab_type": "code",
        "colab": {}
      },
      "source": [
        "# Adición de un nuevo elemento en una posición especifica. Se usa el método insert(posici)\n",
        "# Esto adicionará el elemento en la última posición de la lista\n",
        "\n",
        "consumo_ultimos_meses = [15, 20, 18, 19, 35, 30]\n",
        "print(consumo_ultimos_meses)\n",
        "\n",
        "print('Después de adicionar un elemento en la posicion 2')\n",
        "consumo_ultimos_meses.insert(2,12)\n",
        "print(consumo_ultimos_meses)\n",
        "\n"
      ],
      "execution_count": null,
      "outputs": []
    },
    {
      "cell_type": "code",
      "metadata": {
        "id": "Lf8xgE6jFauV",
        "colab_type": "code",
        "colab": {}
      },
      "source": [
        "# Adición de un nuevo elemento en la lista al final. Se usa el método append\n",
        "# Esto adicionará el elemento en la última posición de la lista\n",
        "\n",
        "consumo_ultimos_meses.append(12)\n",
        "print(consumo_ultimos_meses)\n",
        "\n",
        "meses.append('Julio')\n",
        "print(meses)\n"
      ],
      "execution_count": null,
      "outputs": []
    },
    {
      "cell_type": "code",
      "metadata": {
        "id": "rM9HpocSHBT3",
        "colab_type": "code",
        "colab": {}
      },
      "source": [
        "# Eliminación del último elemento de la lista. Se usa el método Pop\n",
        "meses.pop()\n",
        "print(meses)\n"
      ],
      "execution_count": null,
      "outputs": []
    },
    {
      "cell_type": "code",
      "metadata": {
        "id": "0PxV-2eJHRo7",
        "colab_type": "code",
        "colab": {}
      },
      "source": [
        "# Eliminación de un elemento de la lista. Se usa el método Remove\n",
        "# Este metodo elimina sólo la primera ocurrencia\n",
        "\n",
        "meses = ['Enero', 'Febrero', 'Marzo', 'Abril', 'Mayo', 'Junio']\n",
        "print(meses)\n",
        "meses.append('Abril')\n",
        "print(meses)\n",
        "\n",
        "meses.remove('Abril')\n",
        "print(meses)\n"
      ],
      "execution_count": null,
      "outputs": []
    },
    {
      "cell_type": "code",
      "metadata": {
        "id": "kXvqBtrUME1K",
        "colab_type": "code",
        "colab": {}
      },
      "source": [
        "# Extender una lista con otra lista\n",
        "meses = ['Enero', 'Febrero', 'Marzo', 'Abril', 'Mayo', 'Junio']\n",
        "print(meses)\n",
        "\n",
        "meses.extend(['Julio','Agosto','Septiembre','Octubre','Noviembre','Diciembre'])\n",
        "print('Después de extender')\n",
        "print(meses)\n",
        "\n",
        "print('')\n",
        "municipios = ['Medellin', 'Envigado', 'Copacabana', 'Bello','Caldas']\n",
        "print(municipios)\n",
        "municipios.extend(['Itagui', 'Sabaneta'])\n",
        "print('Después de extender')\n",
        "print(municipios)"
      ],
      "execution_count": null,
      "outputs": []
    },
    {
      "cell_type": "markdown",
      "metadata": {
        "id": "saapOSYE-vMC",
        "colab_type": "text"
      },
      "source": [
        "* Tuplas: Son estructuras de datos que no permiten cambiar su tamaño ni los valores que contienen después de ser creadas. La definición de una tupla se hace con parentesis ()"
      ]
    },
    {
      "cell_type": "code",
      "metadata": {
        "id": "PFVGsrBPx8Ig",
        "colab_type": "code",
        "colab": {}
      },
      "source": [
        "# Definición de Tuplas\n",
        "consumo_ultimos_meses = (15, 20, 18, 19, 35, 30)\n",
        "meses_primer_semestre = ('Enero', 'Febrero', 'Marzo', 'Abril', 'Mayo', 'Junio')\n",
        "meses_segundo_semestre = ('Julio', 'Agosto', 'Septiembre', 'Octubre', 'Noviembre', 'Diciembre')\n",
        "\n",
        "# Acceso a una posición de la tupla, se hace con nombre_tupla[posición]\n",
        "consumo_primer_mes = consumo_ultimos_meses[0] # Se obtiene el valor de la primera posición\n",
        "print(consumo_primer_mes)                     # Se muestra el valor de la variable consumo_primer_mes\n",
        "\n",
        "consumo_sexto_mes = consumo_ultimos_meses[5]  # Se obtiene el valor de la sexta posición\n",
        "print(consumo_sexto_mes)                      # Se muestra el valor de la variable consumo_sexto_mes"
      ],
      "execution_count": null,
      "outputs": []
    },
    {
      "cell_type": "code",
      "metadata": {
        "id": "hUMmKJZ79cjc",
        "colab_type": "code",
        "colab": {}
      },
      "source": [
        "# Intento de modificar el valor de una posición de la tupla\n",
        "consumo_ultimos_meses[0] = 17    \n"
      ],
      "execution_count": null,
      "outputs": []
    },
    {
      "cell_type": "markdown",
      "metadata": {
        "id": "S9atrPQbyIFD",
        "colab_type": "text"
      },
      "source": [
        "* Diccionarios: son estructuras de datos que tienen el mismo comportmiento de las listas, sólo que los indices no son unicamente enteros. La definición de una diccionario se hace mediante llaves {} "
      ]
    },
    {
      "cell_type": "code",
      "metadata": {
        "id": "f_ufch0TyIqM",
        "colab_type": "code",
        "colab": {}
      },
      "source": [
        "# Definición de un diccionario nombre_diccionario={llave: valor, llave2: valor}\n",
        "usuario = {'nombre':'Alfonso', 'apellido':'Vasquez', 'cargo':\"Profesional C\"}\n",
        "instalacion = {'servicio_suscrito': '12345678', 'servicio': 'Acueducto', 'cateogoria':\"Residencial\", 'estrato':3, 'Activo': True}\n",
        "\n",
        "\n",
        "# Visualizar información que contiene el diccionario\n",
        "print(usuario)\n",
        "print(instalacion)"
      ],
      "execution_count": null,
      "outputs": []
    },
    {
      "cell_type": "code",
      "metadata": {
        "id": "nJj_WXT6n3Kt",
        "colab_type": "code",
        "colab": {}
      },
      "source": [
        "# Obtener las llaves de un diccionario\n",
        "usuario.keys()\n"
      ],
      "execution_count": null,
      "outputs": []
    },
    {
      "cell_type": "code",
      "metadata": {
        "id": "QJ-0b6m1oap-",
        "colab_type": "code",
        "colab": {}
      },
      "source": [
        "# Obtener los valores de un diccionario\n",
        "usuario.values()"
      ],
      "execution_count": null,
      "outputs": []
    },
    {
      "cell_type": "markdown",
      "metadata": {
        "id": "6A8Roq03wrZK",
        "colab_type": "text"
      },
      "source": [
        "# FUNCIONES"
      ]
    },
    {
      "cell_type": "markdown",
      "metadata": {
        "id": "JKzig3yhSS5t",
        "colab_type": "text"
      },
      "source": [
        "Son un conjunto de instrucciones que se definen para realizar unas operaciones sobre la información que hay en las variables. Puede tener información de entrada o no y puede tener o no información de salida.\n",
        "\n",
        "La palabra reservada para hacer devolución de información es \"return\""
      ]
    },
    {
      "cell_type": "code",
      "metadata": {
        "id": "zUm5edwiT5B8",
        "colab_type": "code",
        "colab": {}
      },
      "source": [
        "# Ejemplos de definiciones de funciones\n",
        "\n",
        "# Sin información de entrada y sin información de salida\n",
        "def nombre_funcion():\n",
        "  operacion = 5 + PROMEDIO_MAXIMO_ACEPTABLE\n",
        "  \n",
        "# Con información de entrada y sin información de salida\n",
        "def nombre_funcion(parametro1, parametro2):\n",
        "  operacion = parametro1 + parametro2\n",
        "\n",
        "# Con información de entrada y con información de salida\n",
        "def nombre_funcion(parametro1):\n",
        "  mensaje_saludo = 'Hola ' + parametro1\n",
        "  return mensaje_saludo\n",
        "\n"
      ],
      "execution_count": null,
      "outputs": []
    },
    {
      "cell_type": "code",
      "metadata": {
        "id": "R-1ZptwOyfeX",
        "colab_type": "code",
        "colab": {}
      },
      "source": [
        "def sumar(operando1, operando2):\n",
        "  return operando1 + operando2\n",
        "\n",
        "def obtener_excedente_consumo_minimo(consumo):\n",
        "  return consumo-PROMEDIO_MAXIMO_ACEPTABLE\n",
        "\n",
        "resultado_suma = sumar(5,4)\n",
        "excedente = obtener_excedente_consumo_minimo(28)\n",
        "\n",
        "print('Resultado Suma ', resultado_suma)\n",
        "print('Excedente Consumo ', excedente)"
      ],
      "execution_count": null,
      "outputs": []
    },
    {
      "cell_type": "markdown",
      "metadata": {
        "id": "RhCLH7uXzeIx",
        "colab_type": "text"
      },
      "source": [
        "# CONDICIONALES"
      ]
    },
    {
      "cell_type": "markdown",
      "metadata": {
        "id": "BnGsnwQZT5yc",
        "colab_type": "text"
      },
      "source": [
        "Son sentencias que permiten condicionar la ejecución de unas instrucciones cuando se cumpla una condición\n"
      ]
    },
    {
      "cell_type": "code",
      "metadata": {
        "id": "6rSvfwd20Hwy",
        "colab_type": "code",
        "colab": {}
      },
      "source": [
        "# Condicional usando sólo IF\n",
        "def obtener_excedente_consumo_minimo(consumo):\n",
        "  resultado = 0\n",
        "  \n",
        "  if consumo > PROMEDIO_MAXIMO_ACEPTABLE:\n",
        "    resultado = consumo-PROMEDIO_MAXIMO_ACEPTABLE\n",
        "  \n",
        "  return resultado\n",
        "\n",
        "\n",
        "excedente1 = obtener_excedente_consumo_minimo(10)\n",
        "excedente2 = obtener_excedente_consumo_minimo(20)\n",
        "excedente3 = obtener_excedente_consumo_minimo(28)\n",
        "\n",
        "print('Excedente Consumo 1 -> ', excedente1)\n",
        "print('Excedente Consumo 2 -> ', excedente2)\n",
        "print('Excedente Consumo 3 -> ', excedente3)"
      ],
      "execution_count": null,
      "outputs": []
    },
    {
      "cell_type": "code",
      "metadata": {
        "id": "M4I8Pk8X0xg-",
        "colab_type": "code",
        "colab": {}
      },
      "source": [
        "# Condicional usando IF-ELSE\n",
        "def obtener_excedente_consumo_minimo(consumo):\n",
        "  \n",
        "  if consumo < PROMEDIO_MAXIMO_ACEPTABLE:\n",
        "    resultado = 0\n",
        "  else:\n",
        "    resultado = consumo-PROMEDIO_MAXIMO_ACEPTABLE\n",
        "  \n",
        "  return resultado\n",
        "\n",
        "excedente1 = obtener_excedente_consumo_minimo(10)\n",
        "excedente2 = obtener_excedente_consumo_minimo(20)\n",
        "excedente3 = obtener_excedente_consumo_minimo(28)\n",
        "\n",
        "print('Excedente Consumo 1 -> ', excedente1)\n",
        "print('Excedente Consumo 2 -> ', excedente2)\n",
        "print('Excedente Consumo 3 -> ', excedente3)"
      ],
      "execution_count": null,
      "outputs": []
    },
    {
      "cell_type": "code",
      "metadata": {
        "id": "__zNwUOr1HWY",
        "colab_type": "code",
        "colab": {}
      },
      "source": [
        "# Condicional usando IF-ELIF-ELSE\n",
        "def obtener_clasificacion_consumo(consumo):\n",
        "  \n",
        "  if consumo < 10:\n",
        "    print('El consumo ('+str(consumo)+') es clasificado como bajo')\n",
        "  elif consumo >= 10 and consumo < 20:\n",
        "    print('El consumo ('+str(consumo)+') es clasificado como medio')\n",
        "  else:\n",
        "    print('El consumo ('+str(consumo)+') es clasificado como alto')\n",
        "\n",
        "\n",
        "obtener_clasificacion_consumo(5)\n",
        "obtener_clasificacion_consumo(18)\n",
        "obtener_clasificacion_consumo(28)\n"
      ],
      "execution_count": null,
      "outputs": []
    },
    {
      "cell_type": "code",
      "metadata": {
        "id": "d1WTySxa2bpD",
        "colab_type": "code",
        "colab": {}
      },
      "source": [
        "# Condicional usando IF-ELIF-ELSE y anidados\n",
        "def obtener_clasificacion_consumo(tipo_consumo, consumo):\n",
        "  \n",
        "  if tipo_consumo == 'AGUA':\n",
        "    if consumo < 13:\n",
        "      print('El consumo ('+str(consumo)+' m3) es clasificado como bajo')\n",
        "    else:\n",
        "      print('El consumo ('+str(consumo)+' m3) es clasificado como alto')\n",
        "  \n",
        "  elif tipo_consumo == 'ENERGIA':\n",
        "    if consumo < 130:\n",
        "      print('El consumo ('+str(consumo)+' Kwh) es clasificado como bajo')\n",
        "    elif consumo >= 130 and consumo < 200:\n",
        "      print('El consumo ('+str(consumo)+' Kwh) es clasificado como medio')\n",
        "    else:\n",
        "      print('El consumo ('+str(consumo)+' Kwh) es clasificado como alto')\n",
        "  \n",
        "  else:\n",
        "    print('No se reconoce el tipo de consumo')\n",
        "\n",
        "obtener_clasificacion_consumo('AGUA',15)\n",
        "obtener_clasificacion_consumo('GAS', 180)\n",
        "obtener_clasificacion_consumo('ENERGIA', 280)"
      ],
      "execution_count": null,
      "outputs": []
    },
    {
      "cell_type": "markdown",
      "metadata": {
        "id": "bkValH70XHkS",
        "colab_type": "text"
      },
      "source": [
        "# CICLOS"
      ]
    },
    {
      "cell_type": "markdown",
      "metadata": {
        "id": "a-ZZr9YiXObq",
        "colab_type": "text"
      },
      "source": [
        "Son sentencias que permiten ejecutar varias veces un conjunto de instrucciones. En python existen dos sentencias: FOR y WHILE\n"
      ]
    },
    {
      "cell_type": "markdown",
      "metadata": {
        "id": "w1p5JF5MwqSq",
        "colab_type": "text"
      },
      "source": [
        "FOR\n",
        "\n",
        "El ciclo FOR permite ejecutar un ciclo por cada uno de los elementos de una colección (Rango, Lista, Tupla, Diccionario)"
      ]
    },
    {
      "cell_type": "code",
      "metadata": {
        "id": "KRwLDU-ClNGq",
        "colab_type": "code",
        "colab": {}
      },
      "source": [
        "# Ejemplos de ciclos: Usando Range(parada)\n",
        "\n",
        "for i in range(5):\n",
        "  print(i)"
      ],
      "execution_count": null,
      "outputs": []
    },
    {
      "cell_type": "code",
      "metadata": {
        "id": "qdrKzocJqiJq",
        "colab_type": "code",
        "colab": {}
      },
      "source": [
        "# Ejemplos de ciclos: Usando Range(inicio, parada)\n",
        "\n",
        "for i in range(2,5):\n",
        "  print(i)"
      ],
      "execution_count": null,
      "outputs": []
    },
    {
      "cell_type": "code",
      "metadata": {
        "id": "0tPo1rGvtUhy",
        "colab_type": "code",
        "colab": {}
      },
      "source": [
        "# Ejemplos de ciclos: Usando Range(inicio, parada, tamanho_salto)\n",
        "\n",
        "for i in range(1,10,3):\n",
        "  print(i)"
      ],
      "execution_count": null,
      "outputs": []
    },
    {
      "cell_type": "code",
      "metadata": {
        "id": "QgEB4HuEtnC9",
        "colab_type": "code",
        "colab": {}
      },
      "source": [
        "# Ejemplos de ciclos: Recorriendo una lista o tupla\n",
        "\n",
        "consumo_ultimos_meses = [15, 20, 18, 19, 35, 30]\n",
        "\n",
        "for valor in consumo_ultimos_meses:\n",
        "  print(valor)"
      ],
      "execution_count": null,
      "outputs": []
    },
    {
      "cell_type": "code",
      "metadata": {
        "id": "Q8BJ-q5Mt63b",
        "colab_type": "code",
        "colab": {}
      },
      "source": [
        "# Ejemplos de ciclos: Recorriendo una lista o tupla\n",
        "\n",
        "consumo_ultimos_meses = [15, 20, 18, 19, 35, 30]\n",
        "\n",
        "for posicion, valor in enumerate(consumo_ultimos_meses):\n",
        "  print('El consumo del mes ', indice, ' es ', valor)\n",
        "  #print('El consumo del mes ', indice+1, ' es ', valor)"
      ],
      "execution_count": null,
      "outputs": []
    },
    {
      "cell_type": "code",
      "metadata": {
        "id": "JKk8djs6uZ77",
        "colab_type": "code",
        "colab": {}
      },
      "source": [
        "# Ejemplos de ciclos: Recorriendo un diccionario\n",
        "\n",
        "consumos = {1:15, 2:20, 3:18, 4:19, '5':35, 6:30}\n",
        "\n",
        "for llave, valor in consumos.items():\n",
        "  print('El consumo del mes', llave, 'es', valor)"
      ],
      "execution_count": null,
      "outputs": []
    },
    {
      "cell_type": "code",
      "metadata": {
        "id": "758GzUf-vtNs",
        "colab_type": "code",
        "colab": {}
      },
      "source": [
        "# Ejemplos de ciclos: Recorriendo un diccionario\n",
        "\n",
        "consumos = {1:15, 2:20, 3:18, 4:19, '5':35, 6:30}\n",
        "\n",
        "for llave in consumos:\n",
        "  print('El consumo del mes', llave, 'es', consumos[llave])"
      ],
      "execution_count": null,
      "outputs": []
    },
    {
      "cell_type": "markdown",
      "metadata": {
        "id": "Xr2VlMuYwtDM",
        "colab_type": "text"
      },
      "source": [
        "WHILE\n",
        "\n",
        "El ciclo WHILE permite ejecutar un ciclo mientras se cumpla una condicion"
      ]
    },
    {
      "cell_type": "code",
      "metadata": {
        "id": "FhZuUYRpyMHY",
        "colab_type": "code",
        "colab": {}
      },
      "source": [
        "# Ejemplos de ciclos While\n",
        "mes = 1\n",
        "\n",
        "while(mes <= 7):\n",
        "  print(mes)\n",
        "  mes+= 1"
      ],
      "execution_count": null,
      "outputs": []
    },
    {
      "cell_type": "code",
      "metadata": {
        "id": "u_M_MMJdwy20",
        "colab_type": "code",
        "colab": {}
      },
      "source": [
        "# Ejemplos de ciclos While\n",
        "\n",
        "consumo_ultimos_meses = [15, 20, 18, 19, 35, 30]\n",
        "\n",
        "mes = 0\n",
        "consumo_acumulado = 0\n",
        "\n",
        "# ciclo while\n",
        "while(mes < 3):\n",
        "  consumo_acumulado += consumo_ultimos_meses[mes]\n",
        "  mes += 1\n",
        "\n",
        "\n",
        "print('El consumo acumulado de los últimos tres meses es ', consumo_acumulado)"
      ],
      "execution_count": null,
      "outputs": []
    },
    {
      "cell_type": "markdown",
      "metadata": {
        "id": "QEdpkcsRaI-0",
        "colab_type": "text"
      },
      "source": [
        "# CLASES Y OBJETOS (PROGRAMACION ORIENTADA A OBJETOS)"
      ]
    },
    {
      "cell_type": "markdown",
      "metadata": {
        "id": "gL5syUv82NOf",
        "colab_type": "text"
      },
      "source": [
        "CLASES\n",
        "\n",
        "Las clases son unas plantillas que indican las propiedades y funcionalidades que puede tener una estructura definida por el programador\n",
        "\n",
        " \n",
        "OBJETO\n",
        "\n",
        "Es una instancia de una clase"
      ]
    },
    {
      "cell_type": "code",
      "metadata": {
        "id": "274gbpmk3AeT",
        "colab_type": "code",
        "colab": {}
      },
      "source": [
        "# Plantilla creación de una clase\n",
        "class NombreClase:\n",
        "  \n",
        "  # Propiedades de Clase: Son los datos caracteristicos de la clase \n",
        "  propiedad_clase = 'valor'\n",
        "  propiedad_clase_n = 0 \n",
        "\n",
        "  # Constructor (Puede estar o no. Puede llevar parametros o no)\n",
        "  # El constructor se usa para inicializar las propiedades ya sea por parametros\n",
        "  # o por valores predefinidos  \n",
        "  def __init__(self, parametro1, parametro2)\n",
        "    self._propiedad_1 = parametro1\n",
        "    self._propiedad_2 = parametro2\n",
        "    self._propiedad_3 = 0\n",
        "    self._propiedad_N = True\n",
        "  \n",
        "  def funcion1():\n",
        "    self._propiedad_1\n",
        "\n",
        "  def funcion2():\n",
        "    self._propiedad_3 = self._propiedad_1 + self._propiedad_2\n",
        "\n"
      ],
      "execution_count": null,
      "outputs": []
    },
    {
      "cell_type": "code",
      "metadata": {
        "id": "jBotxbn24LVz",
        "colab_type": "code",
        "colab": {
          "base_uri": "https://localhost:8080/",
          "height": 204
        },
        "outputId": "285b7f0d-3f7d-4b24-de8f-b77eaeeb0553"
      },
      "source": [
        "class Medidor:\n",
        "  \n",
        "  CONSUMO_BASICO_AGUA = 13\n",
        "  CONSUMO_BASICO_ENERGIA = 130\n",
        "  \n",
        "  def __init__(self, tipo, marca, modelo, serie):\n",
        "    self._tipo = tipo\n",
        "    self._marca = marca\n",
        "    self._modelo = modelo\n",
        "    self._serie = serie\n",
        "    self.serie_OPEN = str(marca) + '_' + str(modelo) + '_' + str(serie)\n",
        "    self._consumo_actual = 0\n",
        "\n",
        "\n",
        "  def definir_consumo_actual(self, consumo):\n",
        "    self._consumo_actual = consumo\n",
        "\n",
        "\n",
        "  def obtener_unidades_consumo_basico(self):    \n",
        "    if self._tipo == 'AGUA':\n",
        "      consumo_basico = Medidor.CONSUMO_BASICO_AGUA\n",
        "    else:\n",
        "      consumo_basico = Medidor.CONSUMO_BASICO_ENERGIA\n",
        "\n",
        "    resultado = self._consumo_actual\n",
        "    if self._consumo_actual > consumo_basico:\n",
        "        resultado = consumo_basico\n",
        "    \n",
        "    return resultado\n",
        "\n",
        "  \n",
        "  def obtener_unidades_consumo_exceso(self):\n",
        "    if self._tipo == 'AGUA':\n",
        "      consumo_basico = Medidor.CONSUMO_BASICO_AGUA\n",
        "    else:\n",
        "      consumo_basico = Medidor.CONSUMO_BASICO_ENERGIA\n",
        "\n",
        "    resultado = 0\n",
        "    if self._consumo_actual > consumo_basico:\n",
        "        resultado = self._consumo_actual - consumo_basico\n",
        "    \n",
        "    return resultado\n",
        "\n",
        "# Definición de un objeto\n",
        "medidor1 = Medidor('AGUA', 'HT', 'KFD123', 345678)\n",
        "medidor1.definir_consumo_actual(50)\n",
        "print(medidor1.serie_OPEN)\n",
        "print(medidor1.obtener_unidades_consumo_basico())\n",
        "print(medidor1.obtener_unidades_consumo_exceso())\n",
        "\n",
        "print('--------')\n",
        "\n",
        "medidor2 = Medidor('ENERGIA', 'EN', 'LOC987', 234234)\n",
        "medidor2.definir_consumo_actual(50)\n",
        "print(medidor1.serie_OPEN)\n",
        "print(medidor1.obtener_unidades_consumo_basico())\n",
        "print(medidor1.obtener_unidades_consumo_exceso())\n",
        "\n",
        "print('--------')\n",
        "\n",
        "medidor1 = Medidor('ENERGIA', 'EN', 'LOC987', 6598789)\n",
        "medidor1.definir_consumo_actual(167)\n",
        "print(medidor1.serie_OPEN)\n",
        "print(medidor1.obtener_unidades_consumo_basico())\n",
        "print(medidor1.obtener_unidades_consumo_exceso())\n"
      ],
      "execution_count": 11,
      "outputs": [
        {
          "output_type": "stream",
          "text": [
            "HT_KFD123_345678\n",
            "13\n",
            "37\n",
            "--------\n",
            "HT_KFD123_345678\n",
            "13\n",
            "37\n",
            "--------\n",
            "EN_LOC987_6598789\n",
            "130\n",
            "37\n"
          ],
          "name": "stdout"
        }
      ]
    },
    {
      "cell_type": "markdown",
      "metadata": {
        "id": "kfXQ9H6ZbIzd",
        "colab_type": "text"
      },
      "source": [
        "# IMPORT"
      ]
    },
    {
      "cell_type": "markdown",
      "metadata": {
        "id": "mDfxUDsGLf36",
        "colab_type": "text"
      },
      "source": [
        "La etiqueta IMPORT permite hacer el llamado de módulos que no hacen parte de la funcionalidades más básicas de python y que nos permiten usar funcionalidades adicionales"
      ]
    },
    {
      "cell_type": "code",
      "metadata": {
        "id": "Juezb4NMLfI0",
        "colab_type": "code",
        "colab": {}
      },
      "source": [
        "import math \n",
        "\n",
        "math.pi\n"
      ],
      "execution_count": null,
      "outputs": []
    },
    {
      "cell_type": "code",
      "metadata": {
        "id": "7osNje38M5mL",
        "colab_type": "code",
        "colab": {}
      },
      "source": [
        "import math\n",
        "\n",
        "math.sin(45)"
      ],
      "execution_count": null,
      "outputs": []
    },
    {
      "cell_type": "code",
      "metadata": {
        "id": "x9fWVqoqNG5b",
        "colab_type": "code",
        "colab": {}
      },
      "source": [
        "import numpy as np\n",
        "import pandas as pd"
      ],
      "execution_count": null,
      "outputs": []
    },
    {
      "cell_type": "markdown",
      "metadata": {
        "id": "Cqz-5PhmscUC",
        "colab_type": "text"
      },
      "source": [
        "EJERCICIO\n",
        "\n",
        "Realizar una funcion que recibe 5 parametros: Lista de usuarios, Nombres, Apellidos, Edad, Cargo. Estos valores deben ser ingresados en un diccionario, teniendo como llaves Nombres, Apellidos, Edad, Cargo. El diccionario con los datos debe ser almacenado en la lista de usuarios ingresada. Al final de la función se debe retornar la lista creada\n",
        "\n",
        "Realizar una funcion que recibe una lista de usuarios, la cual debe recorrer y por cada usuario debe imprimir:\n",
        "\n",
        "> El usuario NNNNNN AAAAAA tiene EEEE años y su cargo es CCCCCC\n",
        "\n",
        "Donde NNNN es el nombre, AAAAA los apellidos, EEEE es la edad y CCCCC es el cargo\n",
        "\n",
        "\n",
        "Una vez se tienen ambas funciones:\n",
        "* Se deben ingresar 3 usuarios usando la funcion de ingreso\n",
        "* Ejecutar la función que imprime los datos de la lista\n",
        "\n"
      ]
    }
  ]
}